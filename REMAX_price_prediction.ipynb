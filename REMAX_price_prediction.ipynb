{
 "cells": [
  {
   "cell_type": "code",
   "execution_count": 3,
   "id": "31a97bcd",
   "metadata": {},
   "outputs": [],
   "source": [
    "import warnings\n",
    "import numpy as np\n",
    "warnings.filterwarnings('ignore')\n",
    "from IPython.display import Image\n",
    "from sklearn import datasets, linear_model\n",
    "from sklearn.metrics import mean_squared_error, r2_score\n",
    "import pandas as pd \n",
    "import statsmodels.api as sm\n",
    "from sklearn.model_selection import train_test_split\n",
    "from scipy.stats import zscore\n",
    "import re\n",
    "import os\n",
    "np.set_printoptions(precision=4, linewidth=100)"
   ]
  },
  {
   "cell_type": "code",
   "execution_count": 4,
   "id": "ef67782e",
   "metadata": {},
   "outputs": [],
   "source": [
    "os.chdir('C:/Personals/GWU/202103_Programming for Analytics II_DNSC_6303_10/Assignmnt4/')"
   ]
  },
  {
   "cell_type": "code",
   "execution_count": 5,
   "id": "64157b12",
   "metadata": {},
   "outputs": [
    {
     "name": "stdout",
     "output_type": "stream",
     "text": [
      "<class 'pandas.core.frame.DataFrame'>\n",
      "RangeIndex: 545 entries, 0 to 544\n",
      "Data columns (total 13 columns):\n",
      " #   Column            Non-Null Count  Dtype \n",
      "---  ------            --------------  ----- \n",
      " 0   price             545 non-null    int64 \n",
      " 1   area              545 non-null    int64 \n",
      " 2   bedrooms          545 non-null    int64 \n",
      " 3   bathrooms         545 non-null    int64 \n",
      " 4   stories           545 non-null    int64 \n",
      " 5   mainroad          545 non-null    object\n",
      " 6   guestroom         545 non-null    object\n",
      " 7   basement          545 non-null    object\n",
      " 8   hotwaterheating   545 non-null    object\n",
      " 9   airconditioning   545 non-null    object\n",
      " 10  parking           545 non-null    int64 \n",
      " 11  prefarea          545 non-null    object\n",
      " 12  furnishingstatus  545 non-null    object\n",
      "dtypes: int64(6), object(7)\n",
      "memory usage: 55.5+ KB\n"
     ]
    }
   ],
   "source": [
    "# check what type of data we are working with\n",
    "remax = pd.read_csv(\"REMAX.csv\")\n",
    "remax.info()"
   ]
  },
  {
   "cell_type": "code",
   "execution_count": 6,
   "id": "6bf94ff9",
   "metadata": {},
   "outputs": [
    {
     "data": {
      "text/html": [
       "<div>\n",
       "<style scoped>\n",
       "    .dataframe tbody tr th:only-of-type {\n",
       "        vertical-align: middle;\n",
       "    }\n",
       "\n",
       "    .dataframe tbody tr th {\n",
       "        vertical-align: top;\n",
       "    }\n",
       "\n",
       "    .dataframe thead th {\n",
       "        text-align: right;\n",
       "    }\n",
       "</style>\n",
       "<table border=\"1\" class=\"dataframe\">\n",
       "  <thead>\n",
       "    <tr style=\"text-align: right;\">\n",
       "      <th></th>\n",
       "      <th>const</th>\n",
       "      <th>price</th>\n",
       "    </tr>\n",
       "  </thead>\n",
       "  <tbody>\n",
       "    <tr>\n",
       "      <th>0</th>\n",
       "      <td>1.0</td>\n",
       "      <td>13300000</td>\n",
       "    </tr>\n",
       "    <tr>\n",
       "      <th>1</th>\n",
       "      <td>1.0</td>\n",
       "      <td>12250000</td>\n",
       "    </tr>\n",
       "    <tr>\n",
       "      <th>2</th>\n",
       "      <td>1.0</td>\n",
       "      <td>12250000</td>\n",
       "    </tr>\n",
       "    <tr>\n",
       "      <th>3</th>\n",
       "      <td>1.0</td>\n",
       "      <td>12215000</td>\n",
       "    </tr>\n",
       "    <tr>\n",
       "      <th>4</th>\n",
       "      <td>1.0</td>\n",
       "      <td>11410000</td>\n",
       "    </tr>\n",
       "  </tbody>\n",
       "</table>\n",
       "</div>"
      ],
      "text/plain": [
       "   const     price\n",
       "0    1.0  13300000\n",
       "1    1.0  12250000\n",
       "2    1.0  12250000\n",
       "3    1.0  12215000\n",
       "4    1.0  11410000"
      ]
     },
     "execution_count": 6,
     "metadata": {},
     "output_type": "execute_result"
    }
   ],
   "source": [
    "# add the constant\n",
    "X = sm.add_constant(remax['price'])\n",
    "X.head(5)"
   ]
  },
  {
   "cell_type": "code",
   "execution_count": 7,
   "id": "523ae929",
   "metadata": {},
   "outputs": [
    {
     "data": {
      "text/plain": [
       "['area',\n",
       " 'bedrooms',\n",
       " 'bathrooms',\n",
       " 'stories',\n",
       " 'mainroad',\n",
       " 'guestroom',\n",
       " 'basement',\n",
       " 'hotwaterheating',\n",
       " 'airconditioning',\n",
       " 'parking',\n",
       " 'prefarea',\n",
       " 'furnishingstatus']"
      ]
     },
     "execution_count": 7,
     "metadata": {},
     "output_type": "execute_result"
    }
   ],
   "source": [
    "# set the dependent variable\n",
    "Y = remax['price']\n",
    "# split the data, 80:20 - Train:Test\n",
    "train_X, test_X, train_y, test_y = train_test_split( X ,Y,train_size = 0.8,random_state = 100 )\n",
    "# set the independent variables\n",
    "X_features = ['area','bedrooms','bathrooms','stories','mainroad','guestroom','basement','hotwaterheating','airconditioning','parking','prefarea','furnishingstatus']\n",
    "X_features"
   ]
  },
  {
   "cell_type": "code",
   "execution_count": 8,
   "id": "694fd98d",
   "metadata": {},
   "outputs": [
    {
     "data": {
      "text/html": [
       "<div>\n",
       "<style scoped>\n",
       "    .dataframe tbody tr th:only-of-type {\n",
       "        vertical-align: middle;\n",
       "    }\n",
       "\n",
       "    .dataframe tbody tr th {\n",
       "        vertical-align: top;\n",
       "    }\n",
       "\n",
       "    .dataframe thead th {\n",
       "        text-align: right;\n",
       "    }\n",
       "</style>\n",
       "<table border=\"1\" class=\"dataframe\">\n",
       "  <thead>\n",
       "    <tr style=\"text-align: right;\">\n",
       "      <th></th>\n",
       "      <th>furnished</th>\n",
       "      <th>semi-furnished</th>\n",
       "      <th>unfurnished</th>\n",
       "    </tr>\n",
       "  </thead>\n",
       "  <tbody>\n",
       "    <tr>\n",
       "      <th>0</th>\n",
       "      <td>1</td>\n",
       "      <td>0</td>\n",
       "      <td>0</td>\n",
       "    </tr>\n",
       "    <tr>\n",
       "      <th>1</th>\n",
       "      <td>1</td>\n",
       "      <td>0</td>\n",
       "      <td>0</td>\n",
       "    </tr>\n",
       "    <tr>\n",
       "      <th>2</th>\n",
       "      <td>0</td>\n",
       "      <td>1</td>\n",
       "      <td>0</td>\n",
       "    </tr>\n",
       "    <tr>\n",
       "      <th>3</th>\n",
       "      <td>1</td>\n",
       "      <td>0</td>\n",
       "      <td>0</td>\n",
       "    </tr>\n",
       "    <tr>\n",
       "      <th>4</th>\n",
       "      <td>1</td>\n",
       "      <td>0</td>\n",
       "      <td>0</td>\n",
       "    </tr>\n",
       "  </tbody>\n",
       "</table>\n",
       "</div>"
      ],
      "text/plain": [
       "   furnished  semi-furnished  unfurnished\n",
       "0          1               0            0\n",
       "1          1               0            0\n",
       "2          0               1            0\n",
       "3          1               0            0\n",
       "4          1               0            0"
      ]
     },
     "execution_count": 8,
     "metadata": {},
     "output_type": "execute_result"
    }
   ],
   "source": [
    "# convert catagorical data into levels, always creates levels, n-1\n",
    "remax['mainroad'].unique()\n",
    "pd.get_dummies(remax['mainroad'])\n",
    "remax['guestroom'].unique()\n",
    "pd.get_dummies(remax['guestroom'])\n",
    "remax['basement'].unique()\n",
    "pd.get_dummies(remax['basement'])\n",
    "remax['hotwaterheating'].unique()\n",
    "pd.get_dummies(remax['hotwaterheating'])\n",
    "remax['airconditioning'].unique()\n",
    "pd.get_dummies(remax['airconditioning'])\n",
    "remax['prefarea'].unique()\n",
    "pd.get_dummies(remax['prefarea'])\n",
    "remax['furnishingstatus'].unique()\n",
    "pd.get_dummies(remax['furnishingstatus']).head()"
   ]
  },
  {
   "cell_type": "code",
   "execution_count": 9,
   "id": "39ac146b",
   "metadata": {},
   "outputs": [
    {
     "data": {
      "text/plain": [
       "Index(['area', 'bedrooms', 'bathrooms', 'stories', 'parking', 'mainroad_yes',\n",
       "       'guestroom_yes', 'basement_yes', 'hotwaterheating_yes',\n",
       "       'airconditioning_yes', 'prefarea_yes',\n",
       "       'furnishingstatus_semi-furnished', 'furnishingstatus_unfurnished'],\n",
       "      dtype='object')"
      ]
     },
     "execution_count": 9,
     "metadata": {},
     "output_type": "execute_result"
    }
   ],
   "source": [
    "categorical_features = ['mainroad', 'guestroom', 'basement', 'hotwaterheating','airconditioning','prefarea','furnishingstatus']\n",
    "remax.encoded = pd.get_dummies(remax[X_features],\n",
    "columns = categorical_features,\n",
    "                              drop_first = True)\n",
    "X_features = remax.encoded.columns\n",
    "X_features"
   ]
  },
  {
   "cell_type": "code",
   "execution_count": 10,
   "id": "f74cdfb7",
   "metadata": {},
   "outputs": [
    {
     "name": "stdout",
     "output_type": "stream",
     "text": [
      "                            OLS Regression Results                            \n",
      "==============================================================================\n",
      "Dep. Variable:                  price   R-squared:                       0.688\n",
      "Model:                            OLS   Adj. R-squared:                  0.678\n",
      "Method:                 Least Squares   F-statistic:                     71.45\n",
      "Date:                Mon, 28 Feb 2022   Prob (F-statistic):           7.21e-98\n",
      "Time:                        02:32:03   Log-Likelihood:                -6647.6\n",
      "No. Observations:                 436   AIC:                         1.332e+04\n",
      "Df Residuals:                     422   BIC:                         1.338e+04\n",
      "Df Model:                          13                                         \n",
      "Covariance Type:            nonrobust                                         \n",
      "===================================================================================================\n",
      "                                      coef    std err          t      P>|t|      [0.025      0.975]\n",
      "---------------------------------------------------------------------------------------------------\n",
      "const                            1.932e+05   2.87e+05      0.673      0.501   -3.71e+05    7.58e+05\n",
      "area                              234.5583     25.923      9.048      0.000     183.603     285.513\n",
      "bedrooms                         7.644e+04   8.05e+04      0.950      0.343   -8.18e+04    2.35e+05\n",
      "bathrooms                        1.027e+06   1.13e+05      9.096      0.000    8.05e+05    1.25e+06\n",
      "stories                          4.153e+05   6.86e+04      6.051      0.000     2.8e+05     5.5e+05\n",
      "parking                          2.702e+05   6.34e+04      4.265      0.000    1.46e+05    3.95e+05\n",
      "mainroad_yes                      3.68e+05   1.53e+05      2.398      0.017    6.64e+04     6.7e+05\n",
      "guestroom_yes                    3.841e+05   1.44e+05      2.660      0.008       1e+05    6.68e+05\n",
      "basement_yes                     3.258e+05    1.2e+05      2.710      0.007    8.95e+04    5.62e+05\n",
      "hotwaterheating_yes              9.213e+05   2.41e+05      3.818      0.000    4.47e+05     1.4e+06\n",
      "airconditioning_yes              8.818e+05   1.17e+05      7.528      0.000    6.52e+05    1.11e+06\n",
      "prefarea_yes                     5.362e+05   1.23e+05      4.358      0.000    2.94e+05    7.78e+05\n",
      "furnishingstatus_semi-furnished  7.246e+04   1.27e+05      0.570      0.569   -1.78e+05    3.23e+05\n",
      "furnishingstatus_unfurnished    -3.693e+05   1.39e+05     -2.662      0.008   -6.42e+05   -9.67e+04\n",
      "==============================================================================\n",
      "Omnibus:                       71.997   Durbin-Watson:                   2.024\n",
      "Prob(Omnibus):                  0.000   Jarque-Bera (JB):              184.447\n",
      "Skew:                           0.815   Prob(JB):                     8.87e-41\n",
      "Kurtosis:                       5.738   Cond. No.                     3.55e+04\n",
      "==============================================================================\n",
      "\n",
      "Notes:\n",
      "[1] Standard Errors assume that the covariance matrix of the errors is correctly specified.\n",
      "[2] The condition number is large, 3.55e+04. This might indicate that there are\n",
      "strong multicollinearity or other numerical problems.\n"
     ]
    }
   ],
   "source": [
    "# add constant (intercept) and assign dependent variable 'price'\n",
    "import statsmodels.api as sm\n",
    "from sklearn.model_selection import train_test_split\n",
    "X = sm.add_constant(remax.encoded)\n",
    "Y = remax['price']\n",
    "train_X, test_X, train_y, test_y = train_test_split( X ,Y,train_size = 0.8,random_state = 40 )\n",
    "# run the first linear regression model\n",
    "remax_model1 = sm.OLS(train_y, train_X.astype(float)).fit()\n",
    "print(remax_model1.summary())"
   ]
  },
  {
   "cell_type": "code",
   "execution_count": 11,
   "id": "2e7d6bfc",
   "metadata": {},
   "outputs": [
    {
     "data": {
      "text/html": [
       "<div>\n",
       "<style scoped>\n",
       "    .dataframe tbody tr th:only-of-type {\n",
       "        vertical-align: middle;\n",
       "    }\n",
       "\n",
       "    .dataframe tbody tr th {\n",
       "        vertical-align: top;\n",
       "    }\n",
       "\n",
       "    .dataframe thead th {\n",
       "        text-align: right;\n",
       "    }\n",
       "</style>\n",
       "<table border=\"1\" class=\"dataframe\">\n",
       "  <thead>\n",
       "    <tr style=\"text-align: right;\">\n",
       "      <th></th>\n",
       "      <th>column</th>\n",
       "      <th>vif</th>\n",
       "    </tr>\n",
       "  </thead>\n",
       "  <tbody>\n",
       "    <tr>\n",
       "      <th>0</th>\n",
       "      <td>area</td>\n",
       "      <td>8.276447</td>\n",
       "    </tr>\n",
       "    <tr>\n",
       "      <th>1</th>\n",
       "      <td>bedrooms</td>\n",
       "      <td>16.652387</td>\n",
       "    </tr>\n",
       "    <tr>\n",
       "      <th>2</th>\n",
       "      <td>bathrooms</td>\n",
       "      <td>9.417643</td>\n",
       "    </tr>\n",
       "    <tr>\n",
       "      <th>3</th>\n",
       "      <td>stories</td>\n",
       "      <td>7.880730</td>\n",
       "    </tr>\n",
       "    <tr>\n",
       "      <th>4</th>\n",
       "      <td>parking</td>\n",
       "      <td>1.986400</td>\n",
       "    </tr>\n",
       "    <tr>\n",
       "      <th>5</th>\n",
       "      <td>mainroad_yes</td>\n",
       "      <td>6.884806</td>\n",
       "    </tr>\n",
       "    <tr>\n",
       "      <th>6</th>\n",
       "      <td>guestroom_yes</td>\n",
       "      <td>1.473234</td>\n",
       "    </tr>\n",
       "    <tr>\n",
       "      <th>7</th>\n",
       "      <td>basement_yes</td>\n",
       "      <td>2.019858</td>\n",
       "    </tr>\n",
       "    <tr>\n",
       "      <th>8</th>\n",
       "      <td>hotwaterheating_yes</td>\n",
       "      <td>1.091568</td>\n",
       "    </tr>\n",
       "    <tr>\n",
       "      <th>9</th>\n",
       "      <td>airconditioning_yes</td>\n",
       "      <td>1.767753</td>\n",
       "    </tr>\n",
       "    <tr>\n",
       "      <th>10</th>\n",
       "      <td>prefarea_yes</td>\n",
       "      <td>1.494211</td>\n",
       "    </tr>\n",
       "    <tr>\n",
       "      <th>11</th>\n",
       "      <td>furnishingstatus_semi-furnished</td>\n",
       "      <td>2.386831</td>\n",
       "    </tr>\n",
       "    <tr>\n",
       "      <th>12</th>\n",
       "      <td>furnishingstatus_unfurnished</td>\n",
       "      <td>2.008632</td>\n",
       "    </tr>\n",
       "  </tbody>\n",
       "</table>\n",
       "</div>"
      ],
      "text/plain": [
       "                             column        vif\n",
       "0                              area   8.276447\n",
       "1                          bedrooms  16.652387\n",
       "2                         bathrooms   9.417643\n",
       "3                           stories   7.880730\n",
       "4                           parking   1.986400\n",
       "5                      mainroad_yes   6.884806\n",
       "6                     guestroom_yes   1.473234\n",
       "7                      basement_yes   2.019858\n",
       "8               hotwaterheating_yes   1.091568\n",
       "9               airconditioning_yes   1.767753\n",
       "10                     prefarea_yes   1.494211\n",
       "11  furnishingstatus_semi-furnished   2.386831\n",
       "12     furnishingstatus_unfurnished   2.008632"
      ]
     },
     "execution_count": 11,
     "metadata": {},
     "output_type": "execute_result"
    }
   ],
   "source": [
    "# detecting multicollinearity using variance inflation factors\n",
    "from statsmodels.stats.outliers_influence import variance_inflation_factor\n",
    "def get_vif_factors( X ):\n",
    "    X_matrix = X.to_numpy()\n",
    "    vif = [ variance_inflation_factor( X_matrix, i ) for i in range( X_matrix.shape[1] ) ]\n",
    "    vif_factors = pd.DataFrame()\n",
    "    vif_factors['column'] = X.columns\n",
    "    vif_factors['vif'] = vif\n",
    "    return vif_factors\n",
    "vif_factors = get_vif_factors( X[X_features])\n",
    "vif_factors"
   ]
  },
  {
   "cell_type": "code",
   "execution_count": 12,
   "id": "91513845",
   "metadata": {},
   "outputs": [
    {
     "data": {
      "text/plain": [
       "0            area\n",
       "1        bedrooms\n",
       "2       bathrooms\n",
       "3         stories\n",
       "5    mainroad_yes\n",
       "Name: column, dtype: object"
      ]
     },
     "execution_count": 12,
     "metadata": {},
     "output_type": "execute_result"
    }
   ],
   "source": [
    "columns_with_large_vif = vif_factors[vif_factors.vif > 4].column\n",
    "columns_with_large_vif"
   ]
  },
  {
   "cell_type": "code",
   "execution_count": 13,
   "id": "5e1676bc",
   "metadata": {},
   "outputs": [
    {
     "data": {
      "text/html": [
       "<div>\n",
       "<style scoped>\n",
       "    .dataframe tbody tr th:only-of-type {\n",
       "        vertical-align: middle;\n",
       "    }\n",
       "\n",
       "    .dataframe tbody tr th {\n",
       "        vertical-align: top;\n",
       "    }\n",
       "\n",
       "    .dataframe thead th {\n",
       "        text-align: right;\n",
       "    }\n",
       "</style>\n",
       "<table border=\"1\" class=\"dataframe\">\n",
       "  <thead>\n",
       "    <tr style=\"text-align: right;\">\n",
       "      <th></th>\n",
       "      <th>column</th>\n",
       "      <th>vif</th>\n",
       "    </tr>\n",
       "  </thead>\n",
       "  <tbody>\n",
       "    <tr>\n",
       "      <th>0</th>\n",
       "      <td>prefarea_yes</td>\n",
       "      <td>1.381842</td>\n",
       "    </tr>\n",
       "    <tr>\n",
       "      <th>1</th>\n",
       "      <td>basement_yes</td>\n",
       "      <td>1.770562</td>\n",
       "    </tr>\n",
       "    <tr>\n",
       "      <th>2</th>\n",
       "      <td>furnishingstatus_semi-furnished</td>\n",
       "      <td>1.448231</td>\n",
       "    </tr>\n",
       "    <tr>\n",
       "      <th>3</th>\n",
       "      <td>furnishingstatus_unfurnished</td>\n",
       "      <td>1.183095</td>\n",
       "    </tr>\n",
       "    <tr>\n",
       "      <th>4</th>\n",
       "      <td>parking</td>\n",
       "      <td>1.565589</td>\n",
       "    </tr>\n",
       "    <tr>\n",
       "      <th>5</th>\n",
       "      <td>guestroom_yes</td>\n",
       "      <td>1.438584</td>\n",
       "    </tr>\n",
       "    <tr>\n",
       "      <th>6</th>\n",
       "      <td>hotwaterheating_yes</td>\n",
       "      <td>1.069463</td>\n",
       "    </tr>\n",
       "    <tr>\n",
       "      <th>7</th>\n",
       "      <td>airconditioning_yes</td>\n",
       "      <td>1.452597</td>\n",
       "    </tr>\n",
       "  </tbody>\n",
       "</table>\n",
       "</div>"
      ],
      "text/plain": [
       "                            column       vif\n",
       "0                     prefarea_yes  1.381842\n",
       "1                     basement_yes  1.770562\n",
       "2  furnishingstatus_semi-furnished  1.448231\n",
       "3     furnishingstatus_unfurnished  1.183095\n",
       "4                          parking  1.565589\n",
       "5                    guestroom_yes  1.438584\n",
       "6              hotwaterheating_yes  1.069463\n",
       "7              airconditioning_yes  1.452597"
      ]
     },
     "execution_count": 13,
     "metadata": {},
     "output_type": "execute_result"
    }
   ],
   "source": [
    "# remove the columns that have high multicollinearity\n",
    "columns_to_be_removed = ['area','bedrooms','bathrooms','stories','mainroad_yes']\n",
    "X_new_features = list(set(X_features)-set(columns_to_be_removed))\n",
    "get_vif_factors(X[X_new_features])"
   ]
  },
  {
   "cell_type": "code",
   "execution_count": 14,
   "id": "f12c527b",
   "metadata": {},
   "outputs": [
    {
     "name": "stdout",
     "output_type": "stream",
     "text": [
      "                                 OLS Regression Results                                \n",
      "=======================================================================================\n",
      "Dep. Variable:                  price   R-squared (uncentered):                   0.848\n",
      "Model:                            OLS   Adj. R-squared (uncentered):              0.845\n",
      "Method:                 Least Squares   F-statistic:                              297.9\n",
      "Date:                Mon, 28 Feb 2022   Prob (F-statistic):                   1.19e-169\n",
      "Time:                        02:33:04   Log-Likelihood:                         -6938.7\n",
      "No. Observations:                 436   AIC:                                  1.389e+04\n",
      "Df Residuals:                     428   BIC:                                  1.393e+04\n",
      "Df Model:                           8                                                  \n",
      "Covariance Type:            nonrobust                                                  \n",
      "===================================================================================================\n",
      "                                      coef    std err          t      P>|t|      [0.025      0.975]\n",
      "---------------------------------------------------------------------------------------------------\n",
      "prefarea_yes                     1.485e+06   2.28e+05      6.507      0.000    1.04e+06    1.93e+06\n",
      "basement_yes                     8.087e+05   2.18e+05      3.714      0.000    3.81e+05    1.24e+06\n",
      "furnishingstatus_semi-furnished  2.396e+06   1.77e+05     13.530      0.000    2.05e+06    2.74e+06\n",
      "furnishingstatus_unfurnished     2.177e+06   1.82e+05     11.948      0.000    1.82e+06    2.53e+06\n",
      "parking                          1.087e+06   1.09e+05      9.985      0.000    8.73e+05     1.3e+06\n",
      "guestroom_yes                    1.265e+06   2.73e+05      4.630      0.000    7.28e+05     1.8e+06\n",
      "hotwaterheating_yes              2.073e+06   4.58e+05      4.527      0.000    1.17e+06    2.97e+06\n",
      "airconditioning_yes              2.462e+06   2.05e+05     11.998      0.000    2.06e+06    2.87e+06\n",
      "==============================================================================\n",
      "Omnibus:                        5.875   Durbin-Watson:                   1.783\n",
      "Prob(Omnibus):                  0.053   Jarque-Bera (JB):                6.721\n",
      "Skew:                           0.161   Prob(JB):                       0.0347\n",
      "Kurtosis:                       3.516   Cond. No.                         6.11\n",
      "==============================================================================\n",
      "\n",
      "Notes:\n",
      "[1] R² is computed without centering (uncentered) since the model does not contain a constant.\n",
      "[2] Standard Errors assume that the covariance matrix of the errors is correctly specified.\n"
     ]
    }
   ],
   "source": [
    "# run second linear model\n",
    "train_X = train_X[X_new_features]\n",
    "remax_model2 = sm.OLS(train_y, train_X).fit()\n",
    "print(remax_model2.summary())"
   ]
  },
  {
   "cell_type": "code",
   "execution_count": 15,
   "id": "bbaf2b1a",
   "metadata": {},
   "outputs": [
    {
     "data": {
      "image/png": "[encoded data removed]",
      "text/plain": [
       "<Figure size 432x288 with 1 Axes>"
      ]
     },
     "metadata": {
      "needs_background": "light"
     },
     "output_type": "display_data"
    }
   ],
   "source": [
    "# residual analysis as a visual\n",
    "import seaborn as sn\n",
    "%matplotlib inline\n",
    "def draw_pp_plot( model, title ):\n",
    "    probplot = sm.ProbPlot( model.resid, fit = True );\n",
    "    probplot.ppplot( line='45' ); #45-degree line.\n",
    "draw_pp_plot(remax_model2,\"Figure - Normal P-P Plot of Regression Standardized Residuals\");"
   ]
  },
  {
   "cell_type": "code",
   "execution_count": 17,
   "id": "4c7dd9c7",
   "metadata": {},
   "outputs": [
    {
     "data": {
      "text/html": [
       "<div>\n",
       "<style scoped>\n",
       "    .dataframe tbody tr th:only-of-type {\n",
       "        vertical-align: middle;\n",
       "    }\n",
       "\n",
       "    .dataframe tbody tr th {\n",
       "        vertical-align: top;\n",
       "    }\n",
       "\n",
       "    .dataframe thead th {\n",
       "        text-align: right;\n",
       "    }\n",
       "</style>\n",
       "<table border=\"1\" class=\"dataframe\">\n",
       "  <thead>\n",
       "    <tr style=\"text-align: right;\">\n",
       "      <th></th>\n",
       "      <th>price</th>\n",
       "      <th>area</th>\n",
       "      <th>bedrooms</th>\n",
       "      <th>bathrooms</th>\n",
       "      <th>stories</th>\n",
       "      <th>mainroad</th>\n",
       "      <th>guestroom</th>\n",
       "      <th>basement</th>\n",
       "      <th>hotwaterheating</th>\n",
       "      <th>airconditioning</th>\n",
       "      <th>parking</th>\n",
       "      <th>prefarea</th>\n",
       "      <th>furnishingstatus</th>\n",
       "      <th>z_score_price</th>\n",
       "    </tr>\n",
       "  </thead>\n",
       "  <tbody>\n",
       "    <tr>\n",
       "      <th>0</th>\n",
       "      <td>13300000</td>\n",
       "      <td>7420</td>\n",
       "      <td>4</td>\n",
       "      <td>2</td>\n",
       "      <td>3</td>\n",
       "      <td>yes</td>\n",
       "      <td>no</td>\n",
       "      <td>no</td>\n",
       "      <td>no</td>\n",
       "      <td>yes</td>\n",
       "      <td>2</td>\n",
       "      <td>yes</td>\n",
       "      <td>furnished</td>\n",
       "      <td>4.566365</td>\n",
       "    </tr>\n",
       "    <tr>\n",
       "      <th>1</th>\n",
       "      <td>12250000</td>\n",
       "      <td>8960</td>\n",
       "      <td>4</td>\n",
       "      <td>4</td>\n",
       "      <td>4</td>\n",
       "      <td>yes</td>\n",
       "      <td>no</td>\n",
       "      <td>no</td>\n",
       "      <td>no</td>\n",
       "      <td>yes</td>\n",
       "      <td>3</td>\n",
       "      <td>no</td>\n",
       "      <td>furnished</td>\n",
       "      <td>4.004484</td>\n",
       "    </tr>\n",
       "    <tr>\n",
       "      <th>2</th>\n",
       "      <td>12250000</td>\n",
       "      <td>9960</td>\n",
       "      <td>3</td>\n",
       "      <td>2</td>\n",
       "      <td>2</td>\n",
       "      <td>yes</td>\n",
       "      <td>no</td>\n",
       "      <td>yes</td>\n",
       "      <td>no</td>\n",
       "      <td>no</td>\n",
       "      <td>2</td>\n",
       "      <td>yes</td>\n",
       "      <td>semi-furnished</td>\n",
       "      <td>4.004484</td>\n",
       "    </tr>\n",
       "    <tr>\n",
       "      <th>3</th>\n",
       "      <td>12215000</td>\n",
       "      <td>7500</td>\n",
       "      <td>4</td>\n",
       "      <td>2</td>\n",
       "      <td>2</td>\n",
       "      <td>yes</td>\n",
       "      <td>no</td>\n",
       "      <td>yes</td>\n",
       "      <td>no</td>\n",
       "      <td>yes</td>\n",
       "      <td>3</td>\n",
       "      <td>yes</td>\n",
       "      <td>furnished</td>\n",
       "      <td>3.985755</td>\n",
       "    </tr>\n",
       "    <tr>\n",
       "      <th>4</th>\n",
       "      <td>11410000</td>\n",
       "      <td>7420</td>\n",
       "      <td>4</td>\n",
       "      <td>1</td>\n",
       "      <td>2</td>\n",
       "      <td>yes</td>\n",
       "      <td>yes</td>\n",
       "      <td>yes</td>\n",
       "      <td>no</td>\n",
       "      <td>yes</td>\n",
       "      <td>2</td>\n",
       "      <td>no</td>\n",
       "      <td>furnished</td>\n",
       "      <td>3.554979</td>\n",
       "    </tr>\n",
       "    <tr>\n",
       "      <th>5</th>\n",
       "      <td>10850000</td>\n",
       "      <td>7500</td>\n",
       "      <td>3</td>\n",
       "      <td>3</td>\n",
       "      <td>1</td>\n",
       "      <td>yes</td>\n",
       "      <td>no</td>\n",
       "      <td>yes</td>\n",
       "      <td>no</td>\n",
       "      <td>yes</td>\n",
       "      <td>2</td>\n",
       "      <td>yes</td>\n",
       "      <td>semi-furnished</td>\n",
       "      <td>3.255309</td>\n",
       "    </tr>\n",
       "  </tbody>\n",
       "</table>\n",
       "</div>"
      ],
      "text/plain": [
       "      price  area  bedrooms  bathrooms  stories mainroad guestroom basement  \\\n",
       "0  13300000  7420         4          2        3      yes        no       no   \n",
       "1  12250000  8960         4          4        4      yes        no       no   \n",
       "2  12250000  9960         3          2        2      yes        no      yes   \n",
       "3  12215000  7500         4          2        2      yes        no      yes   \n",
       "4  11410000  7420         4          1        2      yes       yes      yes   \n",
       "5  10850000  7500         3          3        1      yes        no      yes   \n",
       "\n",
       "  hotwaterheating airconditioning  parking prefarea furnishingstatus  \\\n",
       "0              no             yes        2      yes        furnished   \n",
       "1              no             yes        3       no        furnished   \n",
       "2              no              no        2      yes   semi-furnished   \n",
       "3              no             yes        3      yes        furnished   \n",
       "4              no             yes        2       no        furnished   \n",
       "5              no             yes        2      yes   semi-furnished   \n",
       "\n",
       "   z_score_price  \n",
       "0       4.566365  \n",
       "1       4.004484  \n",
       "2       4.004484  \n",
       "3       3.985755  \n",
       "4       3.554979  \n",
       "5       3.255309  "
      ]
     },
     "execution_count": 17,
     "metadata": {},
     "output_type": "execute_result"
    }
   ],
   "source": [
    "# finding z-score for outlier analysis\n",
    "from scipy.stats import zscore\n",
    "remax['z_score_price'] = zscore(remax['price'])\n",
    "# outlier would lie in plus or minus 3 standard deviations\n",
    "remax[(remax.z_score_price > 3.0) | (remax.z_score_price < -3.0)].head(20)"
   ]
  },
  {
   "cell_type": "code",
   "execution_count": 19,
   "id": "281c48e7",
   "metadata": {},
   "outputs": [
    {
     "name": "stdout",
     "output_type": "stream",
     "text": [
      "                                 OLS Regression Results                                \n",
      "=======================================================================================\n",
      "Dep. Variable:                  price   R-squared (uncentered):                   0.868\n",
      "Model:                            OLS   Adj. R-squared (uncentered):              0.865\n",
      "Method:                 Least Squares   F-statistic:                              350.7\n",
      "Date:                Mon, 28 Feb 2022   Prob (F-statistic):                   1.24e-182\n",
      "Time:                        02:34:08   Log-Likelihood:                         -3528.0\n",
      "No. Observations:                 436   AIC:                                      7072.\n",
      "Df Residuals:                     428   BIC:                                      7105.\n",
      "Df Model:                           8                                                  \n",
      "Covariance Type:            nonrobust                                                  \n",
      "===================================================================================================\n",
      "                                      coef    std err          t      P>|t|      [0.025      0.975]\n",
      "---------------------------------------------------------------------------------------------------\n",
      "prefarea_yes                      525.4998     91.437      5.747      0.000     345.778     705.222\n",
      "basement_yes                      366.8926     87.220      4.207      0.000     195.460     538.325\n",
      "furnishingstatus_semi-furnished  1283.9422     70.950     18.097      0.000    1144.489    1423.395\n",
      "furnishingstatus_unfurnished     1309.7200     72.978     17.947      0.000    1166.280    1453.160\n",
      "parking                           386.0411     43.605      8.853      0.000     300.334     471.748\n",
      "guestroom_yes                     433.5675    109.451      3.961      0.000     218.438     648.697\n",
      "hotwaterheating_yes               696.3571    183.489      3.795      0.000     335.706    1057.008\n",
      "airconditioning_yes               847.2545     82.201     10.307      0.000     685.687    1008.822\n",
      "==============================================================================\n",
      "Omnibus:                        3.656   Durbin-Watson:                   1.665\n",
      "Prob(Omnibus):                  0.161   Jarque-Bera (JB):                3.463\n",
      "Skew:                           0.213   Prob(JB):                        0.177\n",
      "Kurtosis:                       3.093   Cond. No.                         6.11\n",
      "==============================================================================\n",
      "\n",
      "Notes:\n",
      "[1] R² is computed without centering (uncentered) since the model does not contain a constant.\n",
      "[2] Standard Errors assume that the covariance matrix of the errors is correctly specified.\n"
     ]
    }
   ],
   "source": [
    "# drop the rows\n",
    "train_X_new = train_X.drop( [50,111,127],axis=0)\n",
    "train_y_new = train_y.drop( [50,111,127],axis=0)\n",
    "# transform the response variable\n",
    "train_y = np.sqrt(train_y)\n",
    "# run the third linear regression\n",
    "remax_model3 = sm.OLS(train_y, train_X).fit()\n",
    "print(remax_model3.summary())"
   ]
  },
  {
   "cell_type": "code",
   "execution_count": 20,
   "id": "30a787cf",
   "metadata": {},
   "outputs": [
    {
     "data": {
      "image/png": "[encoded data removed]",
      "text/plain": [
       "<Figure size 432x288 with 1 Axes>"
      ]
     },
     "metadata": {
      "needs_background": "light"
     },
     "output_type": "display_data"
    }
   ],
   "source": [
    "# create a visualisation of the residuals\n",
    "draw_pp_plot(remax_model3,\"Figure - Normal P-P Plot of Regression Standardized Residuals\");"
   ]
  },
  {
   "cell_type": "code",
   "execution_count": 21,
   "id": "80de0eca",
   "metadata": {},
   "outputs": [
    {
     "data": {
      "text/plain": [
       "3338283.1066996134"
      ]
     },
     "execution_count": 21,
     "metadata": {},
     "output_type": "execute_result"
    }
   ],
   "source": [
    "# prediction on validation set\n",
    "pred_y = np.power(remax_model3.predict(test_X[train_X.columns]), 2)\n",
    "#measuring RMSE\n",
    "from sklearn import metrics\n",
    "np.sqrt(metrics.mean_squared_error(pred_y, test_y))"
   ]
  },
  {
   "cell_type": "code",
   "execution_count": 22,
   "id": "27162f5f",
   "metadata": {},
   "outputs": [
    {
     "data": {
      "text/plain": [
       "0.12"
      ]
     },
     "execution_count": 22,
     "metadata": {},
     "output_type": "execute_result"
    }
   ],
   "source": [
    "#measuring R^2 value\n",
    "np.round(metrics.r2_score(pred_y, test_y), 2)"
   ]
  },
  {
   "cell_type": "markdown",
   "id": "2e92df8c",
   "metadata": {},
   "source": [
    "I think the variables which really impact the price the most was furnishing status and bedrooms. In the first regression, bedrooms had the most impact but once we removed that due to multicollinearity, it turned to furnishing status. Overall, after adjusting the model and dropping the insignificant variables, the model has a high R squared valuing, meaning that the data does fit the model quite well in predicting house price."
   ]
  }
 ],
 "metadata": {
  "kernelspec": {
   "display_name": "Python 3",
   "language": "python",
   "name": "python3"
  },
  "language_info": {
   "codemirror_mode": {
    "name": "ipython",
    "version": 3
   },
   "file_extension": ".py",
   "mimetype": "text/x-python",
   "name": "python",
   "nbconvert_exporter": "python",
   "pygments_lexer": "ipython3",
   "version": "3.8.8"
  }
 },
 "nbformat": 4,
 "nbformat_minor": 5
}
